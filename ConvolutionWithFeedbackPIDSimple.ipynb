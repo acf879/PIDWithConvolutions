{
 "cells": [
  {
   "cell_type": "code",
   "execution_count": 2062,
   "metadata": {},
   "outputs": [],
   "source": [
    "import random as rn # samples for simple H(z) = P(z) + I(z) + D(z) configuration\n",
    "import numpy as np"
   ]
  },
  {
   "cell_type": "code",
   "execution_count": 2063,
   "metadata": {},
   "outputs": [],
   "source": [
    "MAX = 10 # Max for samples"
   ]
  },
  {
   "cell_type": "code",
   "execution_count": 2064,
   "metadata": {},
   "outputs": [],
   "source": [
    "MIN = -10 # Min for samples"
   ]
  },
  {
   "cell_type": "code",
   "execution_count": 2065,
   "metadata": {},
   "outputs": [],
   "source": [
    "x_input = [(MAX-MIN)*rn.random() + MIN for x in range(10)] # Get lin. distrib. rand. nums to act as sample"
   ]
  },
  {
   "cell_type": "code",
   "execution_count": 2066,
   "metadata": {},
   "outputs": [],
   "source": [
    "T = 1e-6 # Time step"
   ]
  },
  {
   "cell_type": "code",
   "execution_count": 2067,
   "metadata": {},
   "outputs": [],
   "source": [
    "ki = 0.5 # integration parameter"
   ]
  },
  {
   "cell_type": "code",
   "execution_count": 2068,
   "metadata": {},
   "outputs": [],
   "source": [
    "kd = 0 # derivative parameter"
   ]
  },
  {
   "cell_type": "code",
   "execution_count": 2069,
   "metadata": {},
   "outputs": [],
   "source": [
    "kp = 100 # pass parameter"
   ]
  },
  {
   "cell_type": "code",
   "execution_count": 2070,
   "metadata": {},
   "outputs": [],
   "source": [
    "h_p = [T*ki/2 + 2*kd/T + kp, T*ki - 4*kd/T, T*ki/2 + 2*kd/T - 1] # transfer function without feedback"
   ]
  },
  {
   "cell_type": "code",
   "execution_count": 2071,
   "metadata": {},
   "outputs": [],
   "source": [
    "g = [2] # feedback term"
   ]
  },
  {
   "cell_type": "code",
   "execution_count": 2072,
   "metadata": {},
   "outputs": [],
   "source": [
    "def convolution_with_feedback(x ,first_indx_x, h, first_indx_h, g, first_indx_g):\n",
    "    # Initialize variables\n",
    "    len_y = len(x) + len(h)\n",
    "    len_x = len(x)\n",
    "    y_feed_val = 0\n",
    "    x_indx = 0\n",
    "    \n",
    "    H = np.zeros((len(h) + first_indx_h, 1))\n",
    "    G = np.zeros((len(g) + first_indx_g,1))\n",
    "    y = np.zeros((len_y,1))\n",
    "    X = np.zeros((len_y,1))\n",
    "    \n",
    "    for i in range(len(g)):\n",
    "        G[i+first_indx_g] = g[i]\n",
    "        \n",
    "    for i in range(len(h)):\n",
    "        H[i+first_indx_h] = h[i]\n",
    "    \n",
    "    for i in range(0,len(x)):\n",
    "        X[i+first_indx_x] = x[i]\n",
    "    \n",
    "    G = np.flip(G)\n",
    "    H = np.flip(H)  \n",
    "    \n",
    "    first_indx_y = first_indx_x + first_indx_h\n",
    "    y_indx = first_indx_y\n",
    "    \n",
    "\n",
    "    # Calculate\n",
    "    for i in range(0, len_y-1):    \n",
    "        if (y_indx > first_indx_y):\n",
    "            \n",
    "            y_feed = y[i-1] \n",
    "            for j in range(0,len(G)):\n",
    "                y_feed_val += y_feed*G[j]        \n",
    "        for j in range(0,len(H)):\n",
    "            y[i] += X[j+x_indx]*H[j]  \n",
    "        y[i] += y_feed_val\n",
    "        y_feed_val = 0\n",
    "        \n",
    "        if x_indx < len(x):\n",
    "            x_indx += 1\n",
    "        y_indx += 1\n",
    "        \n",
    "    return (first_indx_y, y[:-1])"
   ]
  },
  {
   "cell_type": "code",
   "execution_count": 2073,
   "metadata": {},
   "outputs": [],
   "source": [
    "x0=[1,2,3,4,0,0,0,0,0,0]"
   ]
  },
  {
   "cell_type": "code",
   "execution_count": 2074,
   "metadata": {},
   "outputs": [],
   "source": [
    "h0=[1/2,1/2]"
   ]
  },
  {
   "cell_type": "code",
   "execution_count": 2075,
   "metadata": {},
   "outputs": [],
   "source": [
    "x_indx=1"
   ]
  },
  {
   "cell_type": "code",
   "execution_count": 2076,
   "metadata": {},
   "outputs": [],
   "source": [
    "h_indx=0"
   ]
  },
  {
   "cell_type": "code",
   "execution_count": 2077,
   "metadata": {},
   "outputs": [],
   "source": [
    "g0=[1]"
   ]
  },
  {
   "cell_type": "code",
   "execution_count": 2078,
   "metadata": {},
   "outputs": [],
   "source": [
    "g_indx = 1"
   ]
  },
  {
   "cell_type": "code",
   "execution_count": 2079,
   "metadata": {},
   "outputs": [
    {
     "data": {
      "text/plain": [
       "(1,\n",
       " array([[ 0.5],\n",
       "        [ 2. ],\n",
       "        [ 4.5],\n",
       "        [ 8. ],\n",
       "        [10. ],\n",
       "        [10. ],\n",
       "        [10. ],\n",
       "        [10. ],\n",
       "        [10. ],\n",
       "        [10. ],\n",
       "        [10. ]]))"
      ]
     },
     "execution_count": 2079,
     "metadata": {},
     "output_type": "execute_result"
    }
   ],
   "source": [
    "convolution_with_feedback(x0 ,x_indx, h0, h_indx, g0, g_indx) # produces expected output when done by hand"
   ]
  },
  {
   "cell_type": "code",
   "execution_count": 2080,
   "metadata": {},
   "outputs": [
    {
     "data": {
      "text/plain": [
       "(0,\n",
       " array([[6.54946912e+02],\n",
       "        [1.93688851e+03],\n",
       "        [4.79145870e+03],\n",
       "        [1.02148495e+04],\n",
       "        [2.01387533e+04],\n",
       "        [4.11808406e+04],\n",
       "        [8.26219927e+04],\n",
       "        [1.65825208e+05],\n",
       "        [3.31647842e+05],\n",
       "        [6.63289780e+05],\n",
       "        [1.32657956e+06],\n",
       "        [2.65315912e+06]]))"
      ]
     },
     "execution_count": 2080,
     "metadata": {},
     "output_type": "execute_result"
    }
   ],
   "source": [
    "convolution_with_feedback(x_input, 0, h_p, 0, g, 2)"
   ]
  },
  {
   "cell_type": "code",
   "execution_count": null,
   "metadata": {},
   "outputs": [],
   "source": []
  },
  {
   "cell_type": "code",
   "execution_count": null,
   "metadata": {},
   "outputs": [],
   "source": []
  },
  {
   "cell_type": "code",
   "execution_count": null,
   "metadata": {},
   "outputs": [],
   "source": []
  },
  {
   "cell_type": "code",
   "execution_count": null,
   "metadata": {},
   "outputs": [],
   "source": []
  }
 ],
 "metadata": {
  "kernelspec": {
   "display_name": "Python 3",
   "language": "python",
   "name": "python3"
  },
  "language_info": {
   "codemirror_mode": {
    "name": "ipython",
    "version": 3
   },
   "file_extension": ".py",
   "mimetype": "text/x-python",
   "name": "python",
   "nbconvert_exporter": "python",
   "pygments_lexer": "ipython3",
   "version": "3.8.5"
  }
 },
 "nbformat": 4,
 "nbformat_minor": 4
}
